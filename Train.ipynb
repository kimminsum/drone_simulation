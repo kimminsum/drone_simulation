{
 "cells": [
  {
   "cell_type": "code",
   "execution_count": 37,
   "metadata": {},
   "outputs": [],
   "source": [
    "import numpy as np\n",
    "import matplotlib.pyplot as plt\n",
    "from matplotlib import animation, rc\n",
    "\n",
    "import tensorflow as tf\n",
    "from tensorflow.python.keras.models import Sequential\n",
    "from tensorflow.python.keras.layers import Dense, ReLU\n",
    "from tensorflow.python.keras.optimizer_v2.rmsprop import RMSprop\n",
    "\n",
    "optimizer = RMSprop()"
   ]
  },
  {
   "cell_type": "code",
   "execution_count": 38,
   "metadata": {},
   "outputs": [],
   "source": [
    "class Brain:\n",
    "    def __init__(self, n_state, n_mid, n_action, gamma=0.9, r=0.99):\n",
    "        self.eps = 1.0\n",
    "        self.gamma = gamma\n",
    "        self.r = r\n",
    "\n",
    "        model = Sequential()\n",
    "        model.add(Dense(n_mid, input_shape=(n_state,)))\n",
    "        model.add(ReLU())\n",
    "        model.add(Dense(n_mid))\n",
    "        model.add(ReLU())\n",
    "        model.add(Dense(n_action))\n",
    "        model.compile(loss=\"mse\", optimizer=optimizer)\n",
    "        self.model = model\n",
    "\n",
    "    def train(self, states, next_states, action, reward, terminal):\n",
    "        q = self.model.predict(states)\n",
    "        next_q = self.model.predict(next_states)\n",
    "        t = np.copy(q)\n",
    "        if terminal:\n",
    "            t[:, action] = reward\n",
    "        else:\n",
    "            t[:, action] = reward + self.gamma*np.max(next_q, axis=1)\n",
    "        self.model.train_on_batch(states, t)\n",
    "    \n",
    "    def get_action(self, states):\n",
    "        q = self.model.predict(states)\n",
    "        if np.random.rand() < self.eps:\n",
    "            action = np.random.randint(q.shape[1], size=q.shape[0])\n",
    "        else:\n",
    "            action = np.argmax(q, axis=1)\n",
    "        if self.eps > 0.1:\n",
    "            self.eps *= self.r\n",
    "        return action"
   ]
  },
  {
   "cell_type": "code",
   "execution_count": 39,
   "metadata": {},
   "outputs": [],
   "source": [
    "class Agent:\n",
    "    def __init__(self, v_x, v_y_sigma, v_jump, brain):\n",
    "        self.v_x = v_x\n",
    "        self.v_y_sigma = v_y_sigma\n",
    "        self.v_jump = v_jump\n",
    "        self.brain = brain\n",
    "        self.reset()\n",
    "    \n",
    "    def reset(self):\n",
    "        self.x = -1\n",
    "        self.y = 0\n",
    "        self.v_y = self.v_y_sigma * np.random.randn()\n",
    "        states = np.array([[self.y, self.v_y]])\n",
    "        self.action = self.brain.get_action(states)\n",
    "\n",
    "    def step(self, g):\n",
    "        states = np.array([[self.y, self.v_y]])\n",
    "        self.x += self.v_x\n",
    "        self.y += self.v_y\n",
    "        \n",
    "        reward = 0\n",
    "        terminal = False\n",
    "        if self.x > 1.0:\n",
    "            reward = 1\n",
    "            terminal = True\n",
    "        elif self.y < -1.0 or self.y > 1.0:\n",
    "            reward = -1\n",
    "            terminal = True\n",
    "        reward = np.array([reward])\n",
    "\n",
    "        if self.action[0] == 0:\n",
    "            self.v_y -= g\n",
    "        else:\n",
    "            self.v_y = self.v_jump\n",
    "        next_states = np.array([[self.y, self.v_y]])\n",
    "\n",
    "        next_action = self.brain.get_action(next_states)\n",
    "        self.brain.train(states, next_states, self.action, reward, terminal, next_action)\n",
    "        self.action = next_action\n",
    "\n",
    "        if terminal:\n",
    "            self.reset()\n",
    "        states = np.array([[self.y, self.v_y]])\n",
    "        self.x += self.v_x\n",
    "        self.y += self.v_y\n",
    "\n",
    "        reward = 0\n",
    "        terminal = False\n",
    "        if self.x > 1.0:\n",
    "            reward = 1\n",
    "            terminal = True\n",
    "        elif self.y < -1.0 or self.y > 1.0:\n",
    "            reward = -1\n",
    "            terminal = True\n",
    "        reward = np.array([reward])\n",
    "\n",
    "        action = self.brain.get_action(states)\n",
    "        if action[0] == 0:\n",
    "            self.v_y -= g\n",
    "        else:\n",
    "            self.v_y = self.v_jump\n",
    "        next_states = np.array([[self.y, self.v_y]])\n",
    "        self.brain.train(states, next_states, action, reward, terminal, None)\n",
    "\n",
    "        if terminal:\n",
    "            self.reset()"
   ]
  },
  {
   "cell_type": "code",
   "execution_count": 40,
   "metadata": {},
   "outputs": [],
   "source": [
    "class Environment:\n",
    "    def __init__(self, agent, g):\n",
    "        self.agent = agent\n",
    "        self.g = g\n",
    "    \n",
    "    def step(self):\n",
    "        self.agent.step(self.g)\n",
    "        return (self.agent.x, self.agent.y)"
   ]
  },
  {
   "cell_type": "code",
   "execution_count": 41,
   "metadata": {},
   "outputs": [
    {
     "data": {
      "text/plain": [
       "'2.12.0'"
      ]
     },
     "execution_count": 41,
     "metadata": {},
     "output_type": "execute_result"
    }
   ],
   "source": [
    "def animate(environment, interval, frames):\n",
    "    fig, ax = plt.subplots()\n",
    "    plt.close()\n",
    "    ax.set_xlim((-1, 1))\n",
    "    ax.set_ylim((-1, 1))\n",
    "    sc = ax.scatter([], [])\n",
    "\n",
    "    def plot(data):\n",
    "        x, y = environment.step()\n",
    "        sc.set_offsets(np.array([[x, y]]))\n",
    "        return (sc, )\n",
    "    \n",
    "    return animation.FuncAnimation(fig, plot, interval=interval, frames=frames)\n",
    "tf.__version__"
   ]
  },
  {
   "cell_type": "code",
   "execution_count": 42,
   "metadata": {},
   "outputs": [
    {
     "ename": "TypeError",
     "evalue": "train() takes 6 positional arguments but 7 were given",
     "output_type": "error",
     "traceback": [
      "\u001b[1;31m---------------------------------------------------------------------------\u001b[0m",
      "\u001b[1;31mTypeError\u001b[0m                                 Traceback (most recent call last)",
      "File \u001b[1;32mc:\\Users\\Administrator\\Projects\\drone_simulation\\venv\\lib\\site-packages\\IPython\\core\\formatters.py:344\u001b[0m, in \u001b[0;36mBaseFormatter.__call__\u001b[1;34m(self, obj)\u001b[0m\n\u001b[0;32m    342\u001b[0m     method \u001b[39m=\u001b[39m get_real_method(obj, \u001b[39mself\u001b[39m\u001b[39m.\u001b[39mprint_method)\n\u001b[0;32m    343\u001b[0m     \u001b[39mif\u001b[39;00m method \u001b[39mis\u001b[39;00m \u001b[39mnot\u001b[39;00m \u001b[39mNone\u001b[39;00m:\n\u001b[1;32m--> 344\u001b[0m         \u001b[39mreturn\u001b[39;00m method()\n\u001b[0;32m    345\u001b[0m     \u001b[39mreturn\u001b[39;00m \u001b[39mNone\u001b[39;00m\n\u001b[0;32m    346\u001b[0m \u001b[39melse\u001b[39;00m:\n",
      "File \u001b[1;32mc:\\Users\\Administrator\\Projects\\drone_simulation\\venv\\lib\\site-packages\\matplotlib\\animation.py:1363\u001b[0m, in \u001b[0;36mAnimation._repr_html_\u001b[1;34m(self)\u001b[0m\n\u001b[0;32m   1361\u001b[0m     \u001b[39mreturn\u001b[39;00m \u001b[39mself\u001b[39m\u001b[39m.\u001b[39mto_html5_video()\n\u001b[0;32m   1362\u001b[0m \u001b[39melif\u001b[39;00m fmt \u001b[39m==\u001b[39m \u001b[39m'\u001b[39m\u001b[39mjshtml\u001b[39m\u001b[39m'\u001b[39m:\n\u001b[1;32m-> 1363\u001b[0m     \u001b[39mreturn\u001b[39;00m \u001b[39mself\u001b[39;49m\u001b[39m.\u001b[39;49mto_jshtml()\n",
      "File \u001b[1;32mc:\\Users\\Administrator\\Projects\\drone_simulation\\venv\\lib\\site-packages\\matplotlib\\animation.py:1352\u001b[0m, in \u001b[0;36mAnimation.to_jshtml\u001b[1;34m(self, fps, embed_frames, default_mode)\u001b[0m\n\u001b[0;32m   1348\u001b[0m         path \u001b[39m=\u001b[39m Path(tmpdir, \u001b[39m\"\u001b[39m\u001b[39mtemp.html\u001b[39m\u001b[39m\"\u001b[39m)\n\u001b[0;32m   1349\u001b[0m         writer \u001b[39m=\u001b[39m HTMLWriter(fps\u001b[39m=\u001b[39mfps,\n\u001b[0;32m   1350\u001b[0m                             embed_frames\u001b[39m=\u001b[39membed_frames,\n\u001b[0;32m   1351\u001b[0m                             default_mode\u001b[39m=\u001b[39mdefault_mode)\n\u001b[1;32m-> 1352\u001b[0m         \u001b[39mself\u001b[39;49m\u001b[39m.\u001b[39;49msave(\u001b[39mstr\u001b[39;49m(path), writer\u001b[39m=\u001b[39;49mwriter)\n\u001b[0;32m   1353\u001b[0m         \u001b[39mself\u001b[39m\u001b[39m.\u001b[39m_html_representation \u001b[39m=\u001b[39m path\u001b[39m.\u001b[39mread_text()\n\u001b[0;32m   1355\u001b[0m \u001b[39mreturn\u001b[39;00m \u001b[39mself\u001b[39m\u001b[39m.\u001b[39m_html_representation\n",
      "File \u001b[1;32mc:\\Users\\Administrator\\Projects\\drone_simulation\\venv\\lib\\site-packages\\matplotlib\\animation.py:1090\u001b[0m, in \u001b[0;36mAnimation.save\u001b[1;34m(self, filename, writer, fps, dpi, codec, bitrate, extra_args, metadata, extra_anim, savefig_kwargs, progress_callback)\u001b[0m\n\u001b[0;32m   1085\u001b[0m \u001b[39mwith\u001b[39;00m mpl\u001b[39m.\u001b[39mrc_context({\u001b[39m'\u001b[39m\u001b[39msavefig.bbox\u001b[39m\u001b[39m'\u001b[39m: \u001b[39mNone\u001b[39;00m}), \\\n\u001b[0;32m   1086\u001b[0m      writer\u001b[39m.\u001b[39msaving(\u001b[39mself\u001b[39m\u001b[39m.\u001b[39m_fig, filename, dpi), \\\n\u001b[0;32m   1087\u001b[0m      cbook\u001b[39m.\u001b[39m_setattr_cm(\u001b[39mself\u001b[39m\u001b[39m.\u001b[39m_fig\u001b[39m.\u001b[39mcanvas,\n\u001b[0;32m   1088\u001b[0m                        _is_saving\u001b[39m=\u001b[39m\u001b[39mTrue\u001b[39;00m, manager\u001b[39m=\u001b[39m\u001b[39mNone\u001b[39;00m):\n\u001b[0;32m   1089\u001b[0m     \u001b[39mfor\u001b[39;00m anim \u001b[39min\u001b[39;00m all_anim:\n\u001b[1;32m-> 1090\u001b[0m         anim\u001b[39m.\u001b[39;49m_init_draw()  \u001b[39m# Clear the initial frame\u001b[39;00m\n\u001b[0;32m   1091\u001b[0m     frame_number \u001b[39m=\u001b[39m \u001b[39m0\u001b[39m\n\u001b[0;32m   1092\u001b[0m     \u001b[39m# TODO: Currently only FuncAnimation has a save_count\u001b[39;00m\n\u001b[0;32m   1093\u001b[0m     \u001b[39m#       attribute. Can we generalize this to all Animations?\u001b[39;00m\n",
      "File \u001b[1;32mc:\\Users\\Administrator\\Projects\\drone_simulation\\venv\\lib\\site-packages\\matplotlib\\animation.py:1748\u001b[0m, in \u001b[0;36mFuncAnimation._init_draw\u001b[1;34m(self)\u001b[0m\n\u001b[0;32m   1740\u001b[0m         warnings\u001b[39m.\u001b[39mwarn(\n\u001b[0;32m   1741\u001b[0m             \u001b[39m\"\u001b[39m\u001b[39mCan not start iterating the frames for the initial draw. \u001b[39m\u001b[39m\"\u001b[39m\n\u001b[0;32m   1742\u001b[0m             \u001b[39m\"\u001b[39m\u001b[39mThis can be caused by passing in a 0 length sequence \u001b[39m\u001b[39m\"\u001b[39m\n\u001b[1;32m   (...)\u001b[0m\n\u001b[0;32m   1745\u001b[0m             \u001b[39m\"\u001b[39m\u001b[39mit may be exhausted due to a previous display or save.\u001b[39m\u001b[39m\"\u001b[39m\n\u001b[0;32m   1746\u001b[0m         )\n\u001b[0;32m   1747\u001b[0m         \u001b[39mreturn\u001b[39;00m\n\u001b[1;32m-> 1748\u001b[0m     \u001b[39mself\u001b[39;49m\u001b[39m.\u001b[39;49m_draw_frame(frame_data)\n\u001b[0;32m   1749\u001b[0m \u001b[39melse\u001b[39;00m:\n\u001b[0;32m   1750\u001b[0m     \u001b[39mself\u001b[39m\u001b[39m.\u001b[39m_drawn_artists \u001b[39m=\u001b[39m \u001b[39mself\u001b[39m\u001b[39m.\u001b[39m_init_func()\n",
      "File \u001b[1;32mc:\\Users\\Administrator\\Projects\\drone_simulation\\venv\\lib\\site-packages\\matplotlib\\animation.py:1767\u001b[0m, in \u001b[0;36mFuncAnimation._draw_frame\u001b[1;34m(self, framedata)\u001b[0m\n\u001b[0;32m   1763\u001b[0m     \u001b[39mself\u001b[39m\u001b[39m.\u001b[39m_save_seq \u001b[39m=\u001b[39m \u001b[39mself\u001b[39m\u001b[39m.\u001b[39m_save_seq[\u001b[39m-\u001b[39m\u001b[39mself\u001b[39m\u001b[39m.\u001b[39m_save_count:]\n\u001b[0;32m   1765\u001b[0m \u001b[39m# Call the func with framedata and args. If blitting is desired,\u001b[39;00m\n\u001b[0;32m   1766\u001b[0m \u001b[39m# func needs to return a sequence of any artists that were modified.\u001b[39;00m\n\u001b[1;32m-> 1767\u001b[0m \u001b[39mself\u001b[39m\u001b[39m.\u001b[39m_drawn_artists \u001b[39m=\u001b[39m \u001b[39mself\u001b[39;49m\u001b[39m.\u001b[39;49m_func(framedata, \u001b[39m*\u001b[39;49m\u001b[39mself\u001b[39;49m\u001b[39m.\u001b[39;49m_args)\n\u001b[0;32m   1769\u001b[0m \u001b[39mif\u001b[39;00m \u001b[39mself\u001b[39m\u001b[39m.\u001b[39m_blit:\n\u001b[0;32m   1771\u001b[0m     err \u001b[39m=\u001b[39m \u001b[39mRuntimeError\u001b[39;00m(\u001b[39m'\u001b[39m\u001b[39mThe animation function must return a sequence \u001b[39m\u001b[39m'\u001b[39m\n\u001b[0;32m   1772\u001b[0m                        \u001b[39m'\u001b[39m\u001b[39mof Artist objects.\u001b[39m\u001b[39m'\u001b[39m)\n",
      "\u001b[1;32mc:\\Users\\Administrator\\Projects\\drone_simulation\\Train.ipynb Cell 6\u001b[0m line \u001b[0;36m9\n\u001b[0;32m      <a href='vscode-notebook-cell:/c%3A/Users/Administrator/Projects/drone_simulation/Train.ipynb#W5sZmlsZQ%3D%3D?line=7'>8</a>\u001b[0m \u001b[39mdef\u001b[39;00m \u001b[39mplot\u001b[39m(data):\n\u001b[1;32m----> <a href='vscode-notebook-cell:/c%3A/Users/Administrator/Projects/drone_simulation/Train.ipynb#W5sZmlsZQ%3D%3D?line=8'>9</a>\u001b[0m     x, y \u001b[39m=\u001b[39m environment\u001b[39m.\u001b[39;49mstep()\n\u001b[0;32m     <a href='vscode-notebook-cell:/c%3A/Users/Administrator/Projects/drone_simulation/Train.ipynb#W5sZmlsZQ%3D%3D?line=9'>10</a>\u001b[0m     sc\u001b[39m.\u001b[39mset_offsets(np\u001b[39m.\u001b[39marray([[x, y]]))\n\u001b[0;32m     <a href='vscode-notebook-cell:/c%3A/Users/Administrator/Projects/drone_simulation/Train.ipynb#W5sZmlsZQ%3D%3D?line=10'>11</a>\u001b[0m     \u001b[39mreturn\u001b[39;00m (sc, )\n",
      "\u001b[1;32mc:\\Users\\Administrator\\Projects\\drone_simulation\\Train.ipynb Cell 6\u001b[0m line \u001b[0;36m7\n\u001b[0;32m      <a href='vscode-notebook-cell:/c%3A/Users/Administrator/Projects/drone_simulation/Train.ipynb#W5sZmlsZQ%3D%3D?line=5'>6</a>\u001b[0m \u001b[39mdef\u001b[39;00m \u001b[39mstep\u001b[39m(\u001b[39mself\u001b[39m):\n\u001b[1;32m----> <a href='vscode-notebook-cell:/c%3A/Users/Administrator/Projects/drone_simulation/Train.ipynb#W5sZmlsZQ%3D%3D?line=6'>7</a>\u001b[0m     \u001b[39mself\u001b[39;49m\u001b[39m.\u001b[39;49magent\u001b[39m.\u001b[39;49mstep(\u001b[39mself\u001b[39;49m\u001b[39m.\u001b[39;49mg)\n\u001b[0;32m      <a href='vscode-notebook-cell:/c%3A/Users/Administrator/Projects/drone_simulation/Train.ipynb#W5sZmlsZQ%3D%3D?line=7'>8</a>\u001b[0m     \u001b[39mreturn\u001b[39;00m (\u001b[39mself\u001b[39m\u001b[39m.\u001b[39magent\u001b[39m.\u001b[39mx, \u001b[39mself\u001b[39m\u001b[39m.\u001b[39magent\u001b[39m.\u001b[39my)\n",
      "\u001b[1;32mc:\\Users\\Administrator\\Projects\\drone_simulation\\Train.ipynb Cell 6\u001b[0m line \u001b[0;36m3\n\u001b[0;32m     <a href='vscode-notebook-cell:/c%3A/Users/Administrator/Projects/drone_simulation/Train.ipynb#W5sZmlsZQ%3D%3D?line=34'>35</a>\u001b[0m next_states \u001b[39m=\u001b[39m np\u001b[39m.\u001b[39marray([[\u001b[39mself\u001b[39m\u001b[39m.\u001b[39my, \u001b[39mself\u001b[39m\u001b[39m.\u001b[39mv_y]])\n\u001b[0;32m     <a href='vscode-notebook-cell:/c%3A/Users/Administrator/Projects/drone_simulation/Train.ipynb#W5sZmlsZQ%3D%3D?line=36'>37</a>\u001b[0m next_action \u001b[39m=\u001b[39m \u001b[39mself\u001b[39m\u001b[39m.\u001b[39mbrain\u001b[39m.\u001b[39mget_action(next_states)\n\u001b[1;32m---> <a href='vscode-notebook-cell:/c%3A/Users/Administrator/Projects/drone_simulation/Train.ipynb#W5sZmlsZQ%3D%3D?line=37'>38</a>\u001b[0m \u001b[39mself\u001b[39;49m\u001b[39m.\u001b[39;49mbrain\u001b[39m.\u001b[39;49mtrain(states, next_states, \u001b[39mself\u001b[39;49m\u001b[39m.\u001b[39;49maction, next_action, reward, terminal)\n\u001b[0;32m     <a href='vscode-notebook-cell:/c%3A/Users/Administrator/Projects/drone_simulation/Train.ipynb#W5sZmlsZQ%3D%3D?line=38'>39</a>\u001b[0m \u001b[39mself\u001b[39m\u001b[39m.\u001b[39maction \u001b[39m=\u001b[39m next_action\n\u001b[0;32m     <a href='vscode-notebook-cell:/c%3A/Users/Administrator/Projects/drone_simulation/Train.ipynb#W5sZmlsZQ%3D%3D?line=40'>41</a>\u001b[0m \u001b[39mif\u001b[39;00m terminal:\n",
      "\u001b[1;31mTypeError\u001b[0m: train() takes 6 positional arguments but 7 were given"
     ]
    },
    {
     "data": {
      "text/plain": [
       "<matplotlib.animation.FuncAnimation at 0x220b59f1df0>"
      ]
     },
     "execution_count": 42,
     "metadata": {},
     "output_type": "execute_result"
    }
   ],
   "source": [
    "n_state = 2\n",
    "n_mid = 32\n",
    "n_action = 2\n",
    "brain = Brain(n_state, n_mid, n_action, r=1.0)\n",
    "\n",
    "v_x = 0.05\n",
    "v_y_sigma = 0.1\n",
    "v_jump = 0.2\n",
    "agent = Agent(v_x, v_y_sigma, v_jump, brain)\n",
    "\n",
    "g = 0.2\n",
    "environment = Environment(agent, g)\n",
    "\n",
    "interval = 50\n",
    "frames = 1024\n",
    "anim = animate(environment, interval, frames)\n",
    "rc(\"animation\", html=\"jshtml\")\n",
    "anim"
   ]
  }
 ],
 "metadata": {
  "kernelspec": {
   "display_name": "venv",
   "language": "python",
   "name": "python3"
  },
  "language_info": {
   "codemirror_mode": {
    "name": "ipython",
    "version": 3
   },
   "file_extension": ".py",
   "mimetype": "text/x-python",
   "name": "python",
   "nbconvert_exporter": "python",
   "pygments_lexer": "ipython3",
   "version": "3.8.0"
  }
 },
 "nbformat": 4,
 "nbformat_minor": 2
}
